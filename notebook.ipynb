{
 "cells": [
  {
   "cell_type": "code",
   "id": "initial_id",
   "metadata": {
    "collapsed": true,
    "ExecuteTime": {
     "end_time": "2025-05-15T11:13:39.739579Z",
     "start_time": "2025-05-15T11:13:39.247369Z"
    }
   },
   "source": "from analysis.stats import availability_counts, load_books",
   "outputs": [],
   "execution_count": 1
  },
  {
   "metadata": {
    "ExecuteTime": {
     "end_time": "2025-05-15T11:13:40.353794Z",
     "start_time": "2025-05-15T11:13:40.339680Z"
    }
   },
   "cell_type": "code",
   "source": "books = load_books('data/books.csv')",
   "id": "9d8a08d9b6a819b1",
   "outputs": [],
   "execution_count": 2
  },
  {
   "metadata": {
    "ExecuteTime": {
     "end_time": "2025-05-15T11:13:50.116180Z",
     "start_time": "2025-05-15T11:13:50.102158Z"
    }
   },
   "cell_type": "code",
   "source": [
    "df = availability_counts(books)\n",
    "df"
   ],
   "id": "7f94796ef12bdd13",
   "outputs": [
    {
     "data": {
      "text/plain": [
       "                     count  average price\n",
       "availability rating                      \n",
       "In stock     Five      196      35.374490\n",
       "             Four      179      36.093296\n",
       "             One       226      34.561195\n",
       "             Three     203      34.692020\n",
       "             Two       196      34.810918"
      ],
      "text/html": [
       "<div>\n",
       "<style scoped>\n",
       "    .dataframe tbody tr th:only-of-type {\n",
       "        vertical-align: middle;\n",
       "    }\n",
       "\n",
       "    .dataframe tbody tr th {\n",
       "        vertical-align: top;\n",
       "    }\n",
       "\n",
       "    .dataframe thead th {\n",
       "        text-align: right;\n",
       "    }\n",
       "</style>\n",
       "<table border=\"1\" class=\"dataframe\">\n",
       "  <thead>\n",
       "    <tr style=\"text-align: right;\">\n",
       "      <th></th>\n",
       "      <th></th>\n",
       "      <th>count</th>\n",
       "      <th>average price</th>\n",
       "    </tr>\n",
       "    <tr>\n",
       "      <th>availability</th>\n",
       "      <th>rating</th>\n",
       "      <th></th>\n",
       "      <th></th>\n",
       "    </tr>\n",
       "  </thead>\n",
       "  <tbody>\n",
       "    <tr>\n",
       "      <th rowspan=\"5\" valign=\"top\">In stock</th>\n",
       "      <th>Five</th>\n",
       "      <td>196</td>\n",
       "      <td>35.374490</td>\n",
       "    </tr>\n",
       "    <tr>\n",
       "      <th>Four</th>\n",
       "      <td>179</td>\n",
       "      <td>36.093296</td>\n",
       "    </tr>\n",
       "    <tr>\n",
       "      <th>One</th>\n",
       "      <td>226</td>\n",
       "      <td>34.561195</td>\n",
       "    </tr>\n",
       "    <tr>\n",
       "      <th>Three</th>\n",
       "      <td>203</td>\n",
       "      <td>34.692020</td>\n",
       "    </tr>\n",
       "    <tr>\n",
       "      <th>Two</th>\n",
       "      <td>196</td>\n",
       "      <td>34.810918</td>\n",
       "    </tr>\n",
       "  </tbody>\n",
       "</table>\n",
       "</div>"
      ]
     },
     "execution_count": 5,
     "metadata": {},
     "output_type": "execute_result"
    }
   ],
   "execution_count": 5
  }
 ],
 "metadata": {
  "kernelspec": {
   "display_name": "Python 3",
   "language": "python",
   "name": "python3"
  },
  "language_info": {
   "codemirror_mode": {
    "name": "ipython",
    "version": 2
   },
   "file_extension": ".py",
   "mimetype": "text/x-python",
   "name": "python",
   "nbconvert_exporter": "python",
   "pygments_lexer": "ipython2",
   "version": "2.7.6"
  }
 },
 "nbformat": 4,
 "nbformat_minor": 5
}
